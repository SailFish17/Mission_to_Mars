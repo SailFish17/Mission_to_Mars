{
 "cells": [
  {
   "cell_type": "markdown",
   "id": "studied-species",
   "metadata": {},
   "source": [
    "Mission to Mars\n",
    "\n",
    "10.3.3 Scrape Mars Data:"
   ]
  },
  {
   "cell_type": "markdown",
   "id": "thrown-community",
   "metadata": {},
   "source": [
    "set up dependencies and the URL executable path"
   ]
  },
  {
   "cell_type": "code",
   "execution_count": 1,
   "id": "scheduled-plane",
   "metadata": {
    "ExecuteTime": {
     "end_time": "2021-04-23T21:54:40.706217Z",
     "start_time": "2021-04-23T21:54:27.877363Z"
    }
   },
   "outputs": [],
   "source": [
    "# Import Splinter and BeautifulSoup\n",
    "from splinter import Browser\n",
    "from bs4 import BeautifulSoup as soup\n",
    "from webdriver_manager.chrome import ChromeDriverManager\n",
    "\n",
    "#using pandas for the .read_html() function\n",
    "import pandas as pd"
   ]
  },
  {
   "cell_type": "code",
   "execution_count": 2,
   "id": "valid-chemical",
   "metadata": {
    "ExecuteTime": {
     "end_time": "2021-04-23T21:54:42.618817Z",
     "start_time": "2021-04-23T21:54:40.709013Z"
    }
   },
   "outputs": [
    {
     "name": "stderr",
     "output_type": "stream",
     "text": [
      "\n",
      "\n",
      "====== WebDriver manager ======\n",
      "Current google-chrome version is 89.0.4389\n",
      "Get LATEST driver version for 89.0.4389\n",
      "Driver [C:\\Users\\phili\\.wdm\\drivers\\chromedriver\\win32\\89.0.4389.23\\chromedriver.exe] found in cache\n"
     ]
    }
   ],
   "source": [
    "executable_path = {'executable_path': ChromeDriverManager().install()}\n",
    "browser = Browser('chrome', **executable_path, headless=False)"
   ]
  },
  {
   "cell_type": "markdown",
   "id": "healthy-sector",
   "metadata": {},
   "source": [
    "include the following optional delay line for 2 reasons:\n",
    "\n",
    "browser.is_element_present_by_css('div.list_text', wait_time=1)\n",
    "\n",
    "1. the search is for elements with a specific combination of tag (div) and attribute (list_text). As an example, ul.item_list would be found in HTML as <ul class=\"item_list\">.\n",
    "\n",
    "    \n",
    "2. it tellls the browser to wait one second before searching for components. The optional delay is useful because sometimes dynamic pages take a little while to load, especially if they are image-heavy."
   ]
  },
  {
   "cell_type": "code",
   "execution_count": 3,
   "id": "silver-venture",
   "metadata": {
    "ExecuteTime": {
     "end_time": "2021-04-23T21:54:45.841090Z",
     "start_time": "2021-04-23T21:54:42.621804Z"
    }
   },
   "outputs": [
    {
     "data": {
      "text/plain": [
       "True"
      ]
     },
     "execution_count": 3,
     "metadata": {},
     "output_type": "execute_result"
    }
   ],
   "source": [
    "# Visit the mars nasa news site\n",
    "url = 'https://redplanetscience.com'\n",
    "browser.visit(url)\n",
    "# Optional delay for loading the page\n",
    "browser.is_element_present_by_css('div.list_text', wait_time=1)"
   ]
  },
  {
   "cell_type": "markdown",
   "id": "innovative-capital",
   "metadata": {},
   "source": [
    "Set up the HTML parser"
   ]
  },
  {
   "cell_type": "code",
   "execution_count": 4,
   "id": "express-humanity",
   "metadata": {
    "ExecuteTime": {
     "end_time": "2021-04-23T21:54:45.878037Z",
     "start_time": "2021-04-23T21:54:45.843048Z"
    }
   },
   "outputs": [],
   "source": [
    "html = browser.html\n",
    "news_soup = soup(html, 'html.parser')\n",
    "slide_elem = news_soup.select_one('div.list_text')"
   ]
  },
  {
   "cell_type": "markdown",
   "id": "contrary-island",
   "metadata": {},
   "source": [
    "slide_elem has been set to hold all the data that should be searched.  \n",
    "\n",
    "find the data \"content_title\" in the slide_elem variable."
   ]
  },
  {
   "cell_type": "code",
   "execution_count": 5,
   "id": "affecting-pontiac",
   "metadata": {
    "ExecuteTime": {
     "end_time": "2021-04-23T21:54:46.302477Z",
     "start_time": "2021-04-23T21:54:45.878415Z"
    }
   },
   "outputs": [
    {
     "data": {
      "text/plain": [
       "<div class=\"content_title\">Mars 2020 Stands on Its Own Six Wheels</div>"
      ]
     },
     "execution_count": 5,
     "metadata": {},
     "output_type": "execute_result"
    }
   ],
   "source": [
    "slide_elem.find('div', class_='content_title')"
   ]
  },
  {
   "cell_type": "markdown",
   "id": "portable-pharmacology",
   "metadata": {},
   "source": [
    "Remove the HTML code comments.  \n",
    "\n",
    "Do this by chaining .get_text() to the .find() method.  then only the text of the element is returned.\n",
    "\n",
    "Note:\n",
    "There are two methods used to find tags and attributes with BeautifulSoup:\n",
    "\n",
    "- .find() is used when we want only the first class and attribute we've specified.\n",
    "\n",
    "\n",
    "-  .find_all() is used when we want to retrieve all of the tags and attributes.\n",
    "\n",
    "\n",
    "For example, if we were to use .find_all() instead of .find() when pulling the summary, we would retrieve all of the summaries on the page instead of just the first one.\n"
   ]
  },
  {
   "cell_type": "code",
   "execution_count": 6,
   "id": "equipped-collective",
   "metadata": {
    "ExecuteTime": {
     "end_time": "2021-04-23T21:54:46.467138Z",
     "start_time": "2021-04-23T21:54:46.304471Z"
    }
   },
   "outputs": [
    {
     "data": {
      "text/plain": [
       "'Mars 2020 Stands on Its Own Six Wheels'"
      ]
     },
     "execution_count": 6,
     "metadata": {},
     "output_type": "execute_result"
    }
   ],
   "source": [
    "# Use the parent element to find the first `a` tag and save it as `news_title`\n",
    "news_title = slide_elem.find('div', class_='content_title').get_text()\n",
    "news_title"
   ]
  },
  {
   "cell_type": "code",
   "execution_count": 7,
   "id": "naval-oxygen",
   "metadata": {
    "ExecuteTime": {
     "end_time": "2021-04-23T21:54:46.624717Z",
     "start_time": "2021-04-23T21:54:46.468137Z"
    }
   },
   "outputs": [
    {
     "data": {
      "text/plain": [
       "\"In time-lapse video, taken at JPL, captures the first time NASA's Mars 2020 rover carries its full weight on its legs and wheels.\""
      ]
     },
     "execution_count": 7,
     "metadata": {},
     "output_type": "execute_result"
    }
   ],
   "source": [
    "# Use the parent element to find the paragraph text\n",
    "news_p = slide_elem.find('div', class_='article_teaser_body').get_text()\n",
    "news_p"
   ]
  },
  {
   "cell_type": "markdown",
   "id": "reflected-energy",
   "metadata": {},
   "source": [
    "Mod_10.3.4  Scrape Mars Data:\n"
   ]
  },
  {
   "cell_type": "markdown",
   "id": "younger-wheel",
   "metadata": {},
   "source": [
    "### Featured Images\n"
   ]
  },
  {
   "cell_type": "code",
   "execution_count": 8,
   "id": "sufficient-gazette",
   "metadata": {
    "ExecuteTime": {
     "end_time": "2021-04-23T21:54:49.513375Z",
     "start_time": "2021-04-23T21:54:46.627722Z"
    }
   },
   "outputs": [],
   "source": [
    "# Visit URL\n",
    "url = 'https://spaceimages-mars.com'\n",
    "browser.visit(url)"
   ]
  },
  {
   "cell_type": "markdown",
   "id": "perceived-serum",
   "metadata": {},
   "source": [
    "chain some indexing at the end of .find to stipulate the 2nd button (remember(0,1,2)"
   ]
  },
  {
   "cell_type": "code",
   "execution_count": 9,
   "id": "rising-contributor",
   "metadata": {
    "ExecuteTime": {
     "end_time": "2021-04-23T21:54:49.579431Z",
     "start_time": "2021-04-23T21:54:49.515117Z"
    }
   },
   "outputs": [],
   "source": [
    "# Find and click the full image button\n",
    "full_image_elem = browser.find_by_tag('button')[1]\n",
    "full_image_elem.click()"
   ]
  },
  {
   "cell_type": "markdown",
   "id": "recognized-suicide",
   "metadata": {},
   "source": [
    "Parse the newly opened page"
   ]
  },
  {
   "cell_type": "code",
   "execution_count": 10,
   "id": "interesting-shooting",
   "metadata": {
    "ExecuteTime": {
     "end_time": "2021-04-23T21:54:49.989506Z",
     "start_time": "2021-04-23T21:54:49.581389Z"
    }
   },
   "outputs": [],
   "source": [
    "# Parse the resulting html with soup\n",
    "html = browser.html\n",
    "img_soup = soup(html, 'html.parser')"
   ]
  },
  {
   "cell_type": "markdown",
   "id": "bulgarian-binding",
   "metadata": {},
   "source": [
    "Find the relative url of the image.  its relative as the image will change with each new story.  the returned URL is only for the image, not the site."
   ]
  },
  {
   "cell_type": "code",
   "execution_count": 11,
   "id": "fancy-invitation",
   "metadata": {
    "ExecuteTime": {
     "end_time": "2021-04-23T21:54:50.460539Z",
     "start_time": "2021-04-23T21:54:49.990499Z"
    }
   },
   "outputs": [
    {
     "data": {
      "text/plain": [
       "'image/featured/mars1.jpg'"
      ]
     },
     "execution_count": 11,
     "metadata": {},
     "output_type": "execute_result"
    }
   ],
   "source": [
    "# Find the relative image url\n",
    "img_url_rel = img_soup.find('img', class_='fancybox-image').get('src')\n",
    "img_url_rel"
   ]
  },
  {
   "cell_type": "markdown",
   "id": "paperback-legislature",
   "metadata": {},
   "source": [
    "Use an f string to add the base URL to the relative url derived above to get the complete url of the pictures to be scraped."
   ]
  },
  {
   "cell_type": "code",
   "execution_count": 12,
   "id": "latter-observer",
   "metadata": {
    "ExecuteTime": {
     "end_time": "2021-04-23T21:54:50.863067Z",
     "start_time": "2021-04-23T21:54:50.462527Z"
    }
   },
   "outputs": [
    {
     "data": {
      "text/plain": [
       "'https://spaceimages-mars.com/image/featured/mars1.jpg'"
      ]
     },
     "execution_count": 12,
     "metadata": {},
     "output_type": "execute_result"
    }
   ],
   "source": [
    "# Use the base URL to create an absolute URL\n",
    "img_url = f'https://spaceimages-mars.com/{img_url_rel}'\n",
    "img_url"
   ]
  },
  {
   "cell_type": "markdown",
   "id": "divine-hours",
   "metadata": {},
   "source": [
    "10.3.5 Scrape Mars Data: Just the facts Ma'am\n"
   ]
  },
  {
   "cell_type": "markdown",
   "id": "confidential-orientation",
   "metadata": {},
   "source": [
    "Pull data from table format \n",
    "\n",
    "Using pandas to read the html code and set it into a dataframe.\n",
    "\n",
    "the index [0] calls for only the first table to be found\n",
    "\n"
   ]
  },
  {
   "cell_type": "code",
   "execution_count": 13,
   "id": "running-plate",
   "metadata": {
    "ExecuteTime": {
     "end_time": "2021-04-23T21:55:19.490301Z",
     "start_time": "2021-04-23T21:54:50.865061Z"
    }
   },
   "outputs": [
    {
     "data": {
      "text/html": [
       "<div>\n",
       "<style scoped>\n",
       "    .dataframe tbody tr th:only-of-type {\n",
       "        vertical-align: middle;\n",
       "    }\n",
       "\n",
       "    .dataframe tbody tr th {\n",
       "        vertical-align: top;\n",
       "    }\n",
       "\n",
       "    .dataframe thead th {\n",
       "        text-align: right;\n",
       "    }\n",
       "</style>\n",
       "<table border=\"1\" class=\"dataframe\">\n",
       "  <thead>\n",
       "    <tr style=\"text-align: right;\">\n",
       "      <th></th>\n",
       "      <th>Mars</th>\n",
       "      <th>Earth</th>\n",
       "    </tr>\n",
       "    <tr>\n",
       "      <th>description</th>\n",
       "      <th></th>\n",
       "      <th></th>\n",
       "    </tr>\n",
       "  </thead>\n",
       "  <tbody>\n",
       "    <tr>\n",
       "      <th>Mars - Earth Comparison</th>\n",
       "      <td>Mars</td>\n",
       "      <td>Earth</td>\n",
       "    </tr>\n",
       "    <tr>\n",
       "      <th>Diameter:</th>\n",
       "      <td>6,779 km</td>\n",
       "      <td>12,742 km</td>\n",
       "    </tr>\n",
       "    <tr>\n",
       "      <th>Mass:</th>\n",
       "      <td>6.39 × 10^23 kg</td>\n",
       "      <td>5.97 × 10^24 kg</td>\n",
       "    </tr>\n",
       "    <tr>\n",
       "      <th>Moons:</th>\n",
       "      <td>2</td>\n",
       "      <td>1</td>\n",
       "    </tr>\n",
       "    <tr>\n",
       "      <th>Distance from Sun:</th>\n",
       "      <td>227,943,824 km</td>\n",
       "      <td>149,598,262 km</td>\n",
       "    </tr>\n",
       "    <tr>\n",
       "      <th>Length of Year:</th>\n",
       "      <td>687 Earth days</td>\n",
       "      <td>365.24 days</td>\n",
       "    </tr>\n",
       "    <tr>\n",
       "      <th>Temperature:</th>\n",
       "      <td>-87 to -5 °C</td>\n",
       "      <td>-88 to 58°C</td>\n",
       "    </tr>\n",
       "  </tbody>\n",
       "</table>\n",
       "</div>"
      ],
      "text/plain": [
       "                                    Mars            Earth\n",
       "description                                              \n",
       "Mars - Earth Comparison             Mars            Earth\n",
       "Diameter:                       6,779 km        12,742 km\n",
       "Mass:                    6.39 × 10^23 kg  5.97 × 10^24 kg\n",
       "Moons:                                 2                1\n",
       "Distance from Sun:        227,943,824 km   149,598,262 km\n",
       "Length of Year:           687 Earth days      365.24 days\n",
       "Temperature:                -87 to -5 °C      -88 to 58°C"
      ]
     },
     "execution_count": 13,
     "metadata": {},
     "output_type": "execute_result"
    }
   ],
   "source": [
    "# read the first table to be found\n",
    "df = pd.read_html('https://galaxyfacts-mars.com')[0]\n",
    "\n",
    "# assign column headers\n",
    "df.columns=['description', 'Mars', 'Earth']\n",
    "\n",
    "#turn the description column into the index and maintain it without having to reassign the variable.\n",
    "df.set_index('description', inplace=True)\n",
    "df"
   ]
  },
  {
   "cell_type": "code",
   "execution_count": 14,
   "id": "capital-recommendation",
   "metadata": {
    "ExecuteTime": {
     "end_time": "2021-04-23T22:00:17.327811Z",
     "start_time": "2021-04-23T22:00:17.319833Z"
    }
   },
   "outputs": [
    {
     "data": {
      "text/plain": [
       "'<table border=\"1\" class=\"dataframe\">\\n  <thead>\\n    <tr style=\"text-align: right;\">\\n      <th></th>\\n      <th>Mars</th>\\n      <th>Earth</th>\\n    </tr>\\n    <tr>\\n      <th>description</th>\\n      <th></th>\\n      <th></th>\\n    </tr>\\n  </thead>\\n  <tbody>\\n    <tr>\\n      <th>Mars - Earth Comparison</th>\\n      <td>Mars</td>\\n      <td>Earth</td>\\n    </tr>\\n    <tr>\\n      <th>Diameter:</th>\\n      <td>6,779 km</td>\\n      <td>12,742 km</td>\\n    </tr>\\n    <tr>\\n      <th>Mass:</th>\\n      <td>6.39 × 10^23 kg</td>\\n      <td>5.97 × 10^24 kg</td>\\n    </tr>\\n    <tr>\\n      <th>Moons:</th>\\n      <td>2</td>\\n      <td>1</td>\\n    </tr>\\n    <tr>\\n      <th>Distance from Sun:</th>\\n      <td>227,943,824 km</td>\\n      <td>149,598,262 km</td>\\n    </tr>\\n    <tr>\\n      <th>Length of Year:</th>\\n      <td>687 Earth days</td>\\n      <td>365.24 days</td>\\n    </tr>\\n    <tr>\\n      <th>Temperature:</th>\\n      <td>-87 to -5 °C</td>\\n      <td>-88 to 58°C</td>\\n    </tr>\\n  </tbody>\\n</table>'"
      ]
     },
     "execution_count": 14,
     "metadata": {},
     "output_type": "execute_result"
    }
   ],
   "source": [
    "df.to_html()"
   ]
  },
  {
   "cell_type": "code",
   "execution_count": 15,
   "id": "colonial-skating",
   "metadata": {
    "ExecuteTime": {
     "end_time": "2021-04-23T22:01:12.626455Z",
     "start_time": "2021-04-23T22:01:10.282074Z"
    }
   },
   "outputs": [],
   "source": [
    "browser.quit()"
   ]
  },
  {
   "cell_type": "markdown",
   "id": "prerequisite-passion",
   "metadata": {},
   "source": [
    "Mod_10.3.6 Export to Python"
   ]
  },
  {
   "cell_type": "markdown",
   "id": "unlikely-sheep",
   "metadata": {},
   "source": [
    "Jupyter notebooks can't be automated for scraping.  To fully automate the code, it will need to be converted into a .py file.\n",
    "\n",
    "The next step in making this an automated process is to download the current code into a Python file. It won't transition over perfectly, so it will need to be cleaned up a bit, but it's an easier task than copying each cell and pasting it over in the correct order."
   ]
  },
  {
   "cell_type": "code",
   "execution_count": null,
   "id": "phantom-deputy",
   "metadata": {},
   "outputs": [],
   "source": []
  }
 ],
 "metadata": {
  "kernelspec": {
   "display_name": "PythonData",
   "language": "python",
   "name": "pythondata"
  },
  "language_info": {
   "codemirror_mode": {
    "name": "ipython",
    "version": 3
   },
   "file_extension": ".py",
   "mimetype": "text/x-python",
   "name": "python",
   "nbconvert_exporter": "python",
   "pygments_lexer": "ipython3",
   "version": "3.7.9"
  },
  "toc": {
   "base_numbering": 1,
   "nav_menu": {},
   "number_sections": true,
   "sideBar": true,
   "skip_h1_title": false,
   "title_cell": "Table of Contents",
   "title_sidebar": "Contents",
   "toc_cell": false,
   "toc_position": {},
   "toc_section_display": true,
   "toc_window_display": false
  },
  "varInspector": {
   "cols": {
    "lenName": 16,
    "lenType": 16,
    "lenVar": 40
   },
   "kernels_config": {
    "python": {
     "delete_cmd_postfix": "",
     "delete_cmd_prefix": "del ",
     "library": "var_list.py",
     "varRefreshCmd": "print(var_dic_list())"
    },
    "r": {
     "delete_cmd_postfix": ") ",
     "delete_cmd_prefix": "rm(",
     "library": "var_list.r",
     "varRefreshCmd": "cat(var_dic_list()) "
    }
   },
   "types_to_exclude": [
    "module",
    "function",
    "builtin_function_or_method",
    "instance",
    "_Feature"
   ],
   "window_display": false
  }
 },
 "nbformat": 4,
 "nbformat_minor": 5
}
