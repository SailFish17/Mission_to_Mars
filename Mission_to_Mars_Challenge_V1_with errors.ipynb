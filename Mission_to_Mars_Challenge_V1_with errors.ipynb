{
 "cells": [
  {
   "cell_type": "markdown",
   "id": "studied-species",
   "metadata": {},
   "source": [
    "Mission to Mars Challenge"
   ]
  },
  {
   "cell_type": "markdown",
   "id": "thrown-community",
   "metadata": {},
   "source": [
    "Set up Dependencies and the URL executable path"
   ]
  },
  {
   "cell_type": "code",
   "execution_count": 1,
   "id": "scheduled-plane",
   "metadata": {
    "ExecuteTime": {
     "end_time": "2021-04-29T00:47:48.090735Z",
     "start_time": "2021-04-29T00:47:46.359105Z"
    }
   },
   "outputs": [],
   "source": [
    "# Import Splinter and BeautifulSoup\n",
    "from splinter import Browser\n",
    "from bs4 import BeautifulSoup as soup\n",
    "from webdriver_manager.chrome import ChromeDriverManager\n",
    "\n",
    "#using pandas for the .read_html() function\n",
    "import pandas as pd"
   ]
  },
  {
   "cell_type": "code",
   "execution_count": 2,
   "id": "valid-chemical",
   "metadata": {
    "ExecuteTime": {
     "end_time": "2021-04-29T00:47:51.490103Z",
     "start_time": "2021-04-29T00:47:49.910917Z"
    }
   },
   "outputs": [
    {
     "name": "stderr",
     "output_type": "stream",
     "text": [
      "\n",
      "\n",
      "====== WebDriver manager ======\n",
      "Current google-chrome version is 90.0.4430\n",
      "Get LATEST driver version for 90.0.4430\n",
      "Driver [C:\\Users\\phili\\.wdm\\drivers\\chromedriver\\win32\\90.0.4430.24\\chromedriver.exe] found in cache\n"
     ]
    }
   ],
   "source": [
    "executable_path = {'executable_path': ChromeDriverManager().install()}\n",
    "browser = Browser('chrome', **executable_path, headless=False)"
   ]
  },
  {
   "cell_type": "markdown",
   "id": "higher-accused",
   "metadata": {
    "ExecuteTime": {
     "end_time": "2021-04-25T17:42:21.692084Z",
     "start_time": "2021-04-25T17:42:21.689094Z"
    }
   },
   "source": [
    "###  Visit the NASA Mars News Site"
   ]
  },
  {
   "cell_type": "markdown",
   "id": "healthy-sector",
   "metadata": {},
   "source": [
    "include the following optional delay line for 2 reasons:\n",
    "\n",
    "browser.is_element_present_by_css('div.list_text', wait_time=1)\n",
    "\n",
    "1. the search is for elements with a specific combination of tag (div) and attribute (list_text). As an example, ul.item_list would be found in HTML as <ul class=\"item_list\">.\n",
    "\n",
    "    \n",
    "2. it tellls the browser to wait one second before searching for components. The optional delay is useful because sometimes dynamic pages take a little while to load, especially if they are image-heavy."
   ]
  },
  {
   "cell_type": "code",
   "execution_count": null,
   "id": "silver-venture",
   "metadata": {
    "ExecuteTime": {
     "end_time": "2021-04-25T18:23:23.598142Z",
     "start_time": "2021-04-25T18:23:21.980020Z"
    }
   },
   "outputs": [],
   "source": [
    "# Visit the mars nasa news site\n",
    "# class url replaced - url = 'https://redplanetscience.com'\n",
    "url = 'https://data-class-mars.s3.amazonaws.com/Mars/index.html'\n",
    "browser.visit(url)\n",
    "# Optional delay for loading the page\n",
    "browser.is_element_present_by_css('div.list_text', wait_time=1)"
   ]
  },
  {
   "cell_type": "code",
   "execution_count": null,
   "id": "express-humanity",
   "metadata": {
    "ExecuteTime": {
     "end_time": "2021-04-25T18:23:23.650048Z",
     "start_time": "2021-04-25T18:23:23.618089Z"
    }
   },
   "outputs": [],
   "source": [
    "# Convert the browser html to a soup object and then quit the browser\n",
    "html = browser.html\n",
    "news_soup = soup(html, 'html.parser')\n",
    "\n",
    "slide_elem = news_soup.select_one('div.list_text')"
   ]
  },
  {
   "cell_type": "markdown",
   "id": "contrary-island",
   "metadata": {},
   "source": [
    "slide_elem has been set to hold all the data that should be searched.  \n",
    "\n",
    "find the data \"content_title\" in the slide_elem variable."
   ]
  },
  {
   "cell_type": "code",
   "execution_count": null,
   "id": "affecting-pontiac",
   "metadata": {
    "ExecuteTime": {
     "end_time": "2021-04-25T18:23:28.658888Z",
     "start_time": "2021-04-25T18:23:28.652906Z"
    }
   },
   "outputs": [],
   "source": [
    "slide_elem.find('div', class_='content_title')"
   ]
  },
  {
   "cell_type": "markdown",
   "id": "portable-pharmacology",
   "metadata": {},
   "source": [
    "Remove the HTML code comments.  \n",
    "\n",
    "Do this by chaining .get_text() to the .find() method.  then only the text of the element is returned.\n",
    "\n",
    "Note:\n",
    "There are two methods used to find tags and attributes with BeautifulSoup:\n",
    "\n",
    "- .find() is used when we want only the first class and attribute we've specified.\n",
    "\n",
    "\n",
    "-  .find_all() is used when we want to retrieve all of the tags and attributes.\n",
    "\n",
    "\n",
    "For example, if we were to use .find_all() instead of .find() when pulling the summary, we would retrieve all of the summaries on the page instead of just the first one.\n"
   ]
  },
  {
   "cell_type": "code",
   "execution_count": null,
   "id": "equipped-collective",
   "metadata": {
    "ExecuteTime": {
     "end_time": "2021-04-25T18:23:32.430159Z",
     "start_time": "2021-04-25T18:23:32.424132Z"
    }
   },
   "outputs": [],
   "source": [
    "# Use the parent element to find the first `a` tag and save it as `news_title`\n",
    "news_title = slide_elem.find('div', class_='content_title').get_text()\n",
    "news_title"
   ]
  },
  {
   "cell_type": "code",
   "execution_count": null,
   "id": "naval-oxygen",
   "metadata": {
    "ExecuteTime": {
     "end_time": "2021-04-25T18:23:36.392257Z",
     "start_time": "2021-04-25T18:23:36.387270Z"
    }
   },
   "outputs": [],
   "source": [
    "# Use the parent element to find the paragraph text\n",
    "news_p = slide_elem.find('div', class_='article_teaser_body').get_text()\n",
    "news_p"
   ]
  },
  {
   "cell_type": "markdown",
   "id": "younger-wheel",
   "metadata": {},
   "source": [
    "### Featured Images\n"
   ]
  },
  {
   "cell_type": "code",
   "execution_count": null,
   "id": "sufficient-gazette",
   "metadata": {
    "ExecuteTime": {
     "end_time": "2021-04-25T18:23:41.838268Z",
     "start_time": "2021-04-25T18:23:40.354246Z"
    }
   },
   "outputs": [],
   "source": [
    "# Visit URL\n",
    "# old class url - url = 'https://spaceimages-mars.com'\n",
    "url = 'https://data-class-jpl-space.s3.amazonaws.com/JPL_Space/index.html'\n",
    "browser.visit(url)"
   ]
  },
  {
   "cell_type": "code",
   "execution_count": null,
   "id": "rising-contributor",
   "metadata": {
    "ExecuteTime": {
     "end_time": "2021-04-25T18:23:44.224067Z",
     "start_time": "2021-04-25T18:23:44.162213Z"
    }
   },
   "outputs": [],
   "source": [
    "# Find and click the full image button\n",
    "full_image_elem = browser.find_by_tag('button')[1]\n",
    "full_image_elem.click()"
   ]
  },
  {
   "cell_type": "markdown",
   "id": "recognized-suicide",
   "metadata": {},
   "source": [
    "Parse the newly opened page"
   ]
  },
  {
   "cell_type": "code",
   "execution_count": null,
   "id": "interesting-shooting",
   "metadata": {
    "ExecuteTime": {
     "end_time": "2021-04-25T18:23:49.570623Z",
     "start_time": "2021-04-25T18:23:49.524747Z"
    }
   },
   "outputs": [],
   "source": [
    "# Parse the resulting html with soup\n",
    "html = browser.html\n",
    "img_soup = soup(html, 'html.parser')\n",
    "img_soup"
   ]
  },
  {
   "cell_type": "markdown",
   "id": "bulgarian-binding",
   "metadata": {},
   "source": [
    "Find the relative url of the image.  its relative as the image will change with each new story.  the returned URL is only for the image, not the site."
   ]
  },
  {
   "cell_type": "code",
   "execution_count": null,
   "id": "fancy-invitation",
   "metadata": {
    "ExecuteTime": {
     "end_time": "2021-04-25T18:23:54.958703Z",
     "start_time": "2021-04-25T18:23:54.949723Z"
    }
   },
   "outputs": [],
   "source": [
    "# Find the relative image url\n",
    "img_url_rel = img_soup.find('img', class_='fancybox-image').get('src')\n",
    "img_url_rel"
   ]
  },
  {
   "cell_type": "markdown",
   "id": "paperback-legislature",
   "metadata": {},
   "source": [
    "Use an f string to add the base URL to the relative url derived above to get the complete url of the pictures to be scraped."
   ]
  },
  {
   "cell_type": "code",
   "execution_count": null,
   "id": "latter-observer",
   "metadata": {
    "ExecuteTime": {
     "end_time": "2021-04-25T18:23:57.414156Z",
     "start_time": "2021-04-25T18:23:57.407175Z"
    }
   },
   "outputs": [],
   "source": [
    "# Use the base URL to create an absolute URL\n",
    "# old f string - img_url = f'https://spaceimages-mars.com/{img_url_rel}'\n",
    "img_url = f'https://data-class-jpl-space.s3.amazonaws.com/JPL_Space/{img_url_rel}'\n",
    "img_url"
   ]
  },
  {
   "cell_type": "markdown",
   "id": "divine-hours",
   "metadata": {},
   "source": [
    "###  Scrape Mars Data: Just the Facts Ma'am"
   ]
  },
  {
   "cell_type": "markdown",
   "id": "confidential-orientation",
   "metadata": {},
   "source": [
    "Pull data from table format \n",
    "\n",
    "Use pandas to read the html code and set it into a dataframe.\n",
    "\n",
    "the index [0] calls for only the first table to be found"
   ]
  },
  {
   "cell_type": "code",
   "execution_count": null,
   "id": "running-plate",
   "metadata": {
    "ExecuteTime": {
     "end_time": "2021-04-25T18:24:04.547017Z",
     "start_time": "2021-04-25T18:24:04.266531Z"
    }
   },
   "outputs": [],
   "source": [
    "# read the first table to be found\n",
    "# old class data - df = pd.read_html('https://galaxyfacts-mars.com')[0]\n",
    "df = pd.read_html('https://data-class-mars-facts.s3.amazonaws.com/Mars_Facts/index.html')[0]\n",
    "df.head()\n"
   ]
  },
  {
   "cell_type": "code",
   "execution_count": null,
   "id": "homeless-marble",
   "metadata": {
    "ExecuteTime": {
     "end_time": "2021-04-25T18:24:05.985354Z",
     "start_time": "2021-04-25T18:24:05.974383Z"
    }
   },
   "outputs": [],
   "source": [
    "# assign column headers\n",
    "df.columns=['description', 'Mars', 'Earth']\n",
    "\n",
    "#turn the description column into the index and maintain it without having to reassign the variable.\n",
    "df.set_index('description', inplace=True)\n",
    "df"
   ]
  },
  {
   "cell_type": "code",
   "execution_count": null,
   "id": "capital-recommendation",
   "metadata": {
    "ExecuteTime": {
     "end_time": "2021-04-25T18:24:07.722886Z",
     "start_time": "2021-04-25T18:24:07.715936Z"
    }
   },
   "outputs": [],
   "source": [
    "df.to_html()"
   ]
  },
  {
   "cell_type": "markdown",
   "id": "lesbian-single",
   "metadata": {},
   "source": [
    "### D1: Scrape High-Resolution Mars’ Hemisphere Images and Titles"
   ]
  },
  {
   "cell_type": "markdown",
   "id": "worst-tower",
   "metadata": {},
   "source": [
    "#### Hemispheres"
   ]
  },
  {
   "cell_type": "code",
   "execution_count": null,
   "id": "exposed-clearing",
   "metadata": {
    "ExecuteTime": {
     "end_time": "2021-04-29T00:47:12.370976Z",
     "start_time": "2021-04-29T00:47:00.331670Z"
    }
   },
   "outputs": [],
   "source": [
    "# 1. Use browser to visit the URL \n",
    "url = 'https://data-class-mars-hemispheres.s3.amazonaws.com/Mars_Hemispheres/index.html'\n",
    "\n",
    "browser.visit(url)"
   ]
  },
  {
   "cell_type": "code",
   "execution_count": 6,
   "id": "liked-lawsuit",
   "metadata": {
    "ExecuteTime": {
     "end_time": "2021-04-29T00:54:09.291954Z",
     "start_time": "2021-04-29T00:54:08.531761Z"
    }
   },
   "outputs": [],
   "source": [
    "# 1. Use browser to visit the URL \n",
    "url = 'https://data-class-mars-hemispheres.s3.amazonaws.com/Mars_Hemispheres/index.html'\n",
    "\n",
    "browser.visit(url)\n",
    "\n",
    "\n",
    "# 2. Create a list to hold the images and titles.\n",
    "hemisphere_image_urls = []\n",
    "for i in range (4):\n",
    "    browser.find_by_css(\"a.product-item img\")[i].click()\n",
    "    html=browser.html\n",
    "    img_soup = soup(html, 'html.parser')\n",
    "    try:\n",
    "        title_elem = img_soup.find(\"h2\", class_=\"title\").get_text()\n",
    "        sample_elem = img_soup.find(\"a\", text=\"Sample\").get(\"href\")\n",
    "        sample_elem = \"https://data-class-mars-hemispheres.s3.amazonaws.com/Mars_Hemispheres/\" + sample_elem\n",
    "        \n",
    "    except AttributeError:\n",
    "        # Image error returns None for better front-end handling\n",
    "        title_elem = None\n",
    "        sample_elem = None\n",
    "    hemisphere = {\n",
    "    \"title\": title_elem,\n",
    "    \"img_url\": sample_elem}\n",
    "    hemisphere_image_urls.append(hemisphere)\n",
    " \n",
    "    browser.back()\n",
    "# return hemisphere_image_urls\n",
    "\n",
    "\n",
    "# # 3. Write code to retrieve the image urls and titles for each hemisphere.\n",
    "# html=browser.html\n",
    "# img_soup = soup(html, 'html.parser')\n",
    "\n",
    "# images = img_soup.find_all('img')\n",
    "# images\n",
    "\n",
    "# for img in images:\n",
    "#     img_url= img['src']\n",
    "#     img_title = img['alt']\n",
    "#     hemisphere_image_urls.append({\"url\":f\"https://data-class-mars-hemispheres.s3.amazonaws.com/Mars_Hemispheres/{img_url}\", \"title\":img_title})\n",
    "\n"
   ]
  },
  {
   "cell_type": "code",
   "execution_count": 7,
   "id": "active-nudist",
   "metadata": {
    "ExecuteTime": {
     "end_time": "2021-04-29T00:54:14.689296Z",
     "start_time": "2021-04-29T00:54:14.682311Z"
    }
   },
   "outputs": [
    {
     "data": {
      "text/plain": [
       "[{'title': 'Cerberus Hemisphere Enhanced',\n",
       "  'img_url': 'https://data-class-mars-hemispheres.s3.amazonaws.com/Mars_Hemispheres/images/full.jpg'},\n",
       " {'title': 'Schiaparelli Hemisphere Enhanced',\n",
       "  'img_url': 'https://data-class-mars-hemispheres.s3.amazonaws.com/Mars_Hemispheres/images/schiaparelli_enhanced-full.jpg'},\n",
       " {'title': 'Syrtis Major Hemisphere Enhanced',\n",
       "  'img_url': 'https://data-class-mars-hemispheres.s3.amazonaws.com/Mars_Hemispheres/images/syrtis_major_enhanced-full.jpg'},\n",
       " {'title': 'Valles Marineris Hemisphere Enhanced',\n",
       "  'img_url': 'https://data-class-mars-hemispheres.s3.amazonaws.com/Mars_Hemispheres/images/valles_marineris_enhanced-full.jpg'}]"
      ]
     },
     "execution_count": 7,
     "metadata": {},
     "output_type": "execute_result"
    }
   ],
   "source": [
    "# 4. Print the list that holds the dictionary of each image url and title.\n",
    "hemisphere_image_urls"
   ]
  },
  {
   "cell_type": "code",
   "execution_count": null,
   "id": "colonial-skating",
   "metadata": {
    "ExecuteTime": {
     "end_time": "2021-04-23T22:01:12.626455Z",
     "start_time": "2021-04-23T22:01:10.282074Z"
    }
   },
   "outputs": [],
   "source": [
    "#5 Quit the browser\n",
    "browser.quit()"
   ]
  },
  {
   "cell_type": "code",
   "execution_count": null,
   "id": "phantom-deputy",
   "metadata": {},
   "outputs": [],
   "source": []
  }
 ],
 "metadata": {
  "kernelspec": {
   "display_name": "PythonData",
   "language": "python",
   "name": "pythondata"
  },
  "language_info": {
   "codemirror_mode": {
    "name": "ipython",
    "version": 3
   },
   "file_extension": ".py",
   "mimetype": "text/x-python",
   "name": "python",
   "nbconvert_exporter": "python",
   "pygments_lexer": "ipython3",
   "version": "3.7.9"
  },
  "toc": {
   "base_numbering": 1,
   "nav_menu": {},
   "number_sections": true,
   "sideBar": true,
   "skip_h1_title": false,
   "title_cell": "Table of Contents",
   "title_sidebar": "Contents",
   "toc_cell": false,
   "toc_position": {},
   "toc_section_display": true,
   "toc_window_display": false
  },
  "varInspector": {
   "cols": {
    "lenName": 16,
    "lenType": 16,
    "lenVar": 40
   },
   "kernels_config": {
    "python": {
     "delete_cmd_postfix": "",
     "delete_cmd_prefix": "del ",
     "library": "var_list.py",
     "varRefreshCmd": "print(var_dic_list())"
    },
    "r": {
     "delete_cmd_postfix": ") ",
     "delete_cmd_prefix": "rm(",
     "library": "var_list.r",
     "varRefreshCmd": "cat(var_dic_list()) "
    }
   },
   "types_to_exclude": [
    "module",
    "function",
    "builtin_function_or_method",
    "instance",
    "_Feature"
   ],
   "window_display": false
  }
 },
 "nbformat": 4,
 "nbformat_minor": 5
}
